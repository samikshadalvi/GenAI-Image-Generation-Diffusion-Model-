{
  "nbformat": 4,
  "nbformat_minor": 0,
  "metadata": {
    "colab": {
      "provenance": []
    },
    "kernelspec": {
      "name": "python3",
      "display_name": "Python 3"
    },
    "language_info": {
      "name": "python"
    }
  },
  "cells": [
    {
      "cell_type": "code",
      "execution_count": null,
      "metadata": {
        "id": "hZDTd_aWwSCo"
      },
      "outputs": [],
      "source": [
        "import torch\n",
        "from diffusers import StableDiffusionPipeline, EulerAncestralDiscreteScheduler\n",
        "\n",
        "device = \"cuda\" if torch.cuda.is_available() else (\"mps\" if torch.backends.mps.is_available() else \"cpu\")\n",
        "\n",
        "model_id = \"runwayml/stable-diffusion-v1-5\"\n",
        "pipe = StableDiffusionPipeline.from_pretrained(\n",
        "    model_id, torch_dtype=torch.float16 if device==\"cuda\" else torch.float32\n",
        ")\n",
        "\n",
        "pipe.scheduler = EulerAncestralDiscreteScheduler.from_config(pipe.scheduler.config)\n",
        "\n",
        "if device == \"cuda\":\n",
        "    pipe = pipe.to(device)\n",
        "    pipe.enable_attention_slicing()\n",
        "else:\n",
        "    pipe.to(device)"
      ]
    },
    {
      "cell_type": "code",
      "source": [
        "prompt = \"ultra-detailed portrait of a red rose in a garden, cinematic lighting, 35mm\"\n",
        "negative_prompt = \"blurry, lowres, jpeg artifacts, extra fingers, text, watermark\""
      ],
      "metadata": {
        "id": "uV_ghNef0A6h"
      },
      "execution_count": null,
      "outputs": []
    },
    {
      "cell_type": "code",
      "source": [
        "image = pipe(\n",
        "    prompt=prompt,\n",
        "    negative_prompt=negative_prompt,\n",
        "    num_inference_steps=30,\n",
        "    guidance_scale=7.5,\n",
        "    height=512,\n",
        "    width=512,\n",
        "    generator=torch.Generator(device=device).manual_seed(42)\n",
        ").images[0]\n",
        "\n",
        "image.save(\"generated_image.png\")"
      ],
      "metadata": {
        "id": "0Us-HiPW0ti4"
      },
      "execution_count": null,
      "outputs": []
    },
    {
      "cell_type": "code",
      "source": [],
      "metadata": {
        "id": "MUmLTdx90t3r"
      },
      "execution_count": null,
      "outputs": []
    },
    {
      "cell_type": "code",
      "source": [],
      "metadata": {
        "id": "NXR_eNgt0uCo"
      },
      "execution_count": null,
      "outputs": []
    }
  ]
}